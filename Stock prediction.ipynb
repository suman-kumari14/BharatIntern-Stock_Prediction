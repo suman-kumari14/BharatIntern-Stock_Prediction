{
 "cells": [
  {
   "cell_type": "code",
   "execution_count": null,
   "id": "0aa215db-c0c9-4cb6-a0c2-e0539c2b9ffb",
   "metadata": {},
   "outputs": [],
   "source": [
    "mport numpy as np\n",
    "import pandas as pd\n",
    "import matplotlib.pyplot as plt\n",
    "import yfinance as yf\n",
    "from sklearn.preprocessing import MinMaxScaler\n",
    "from tensorflow.keras.models import Sequential\n",
    "from tensorflow.keras.layers import LSTM, Dense\n",
    "s_data = yf.download('AAPL', start='2020-01-01', end='2022-01-01')\n",
    "data = s_data['Close'].values\n",
    "scaler = MinMaxScaler(feature_range=(0, 1))\n",
    "data = scaler.fit_transform(data.reshape(-1, 1))\n",
    "seq_leng = 20\n",
    "X, y = [], []\n",
    "for i in range(len(data) - seq_leng):\n",
    "    X.append(data[i:i+seq_leng])\n",
    "    y.append(data[i+seq_leng])\n",
    "X, y = np.array(X), np.array(y)\n",
    "split_ratio = 0.8\n",
    "split_index = int(split_ratio * len(data))\n",
    "X_train, X_test = X[:split_index], X[split_index:]\n",
    "y_train, y_test = y[:split_index], y[split_index:]\n",
    "model = Sequential()\n",
    "model.add(LSTM(units=50, return_sequences=True, input_shape=(X_train.shape[1], 1)))\n",
    "model.add(LSTM(units=50))\n",
    "model.add(Dense(1))\n",
    "model.compile(optimizer='adam', loss='mean_squared_error')\n",
    "model.fit(X_train, y_train, epochs=50, batch_size=64)\n",
    "predicted_stock_prices = model.predict(X_test)\n",
    "predicted_stock_prices = scaler.inverse_transform(predicted_stock_prices)\n",
    "import matplotlib.pyplot as plt\n",
    "plt.figure(figsize=(12, 6))\n",
    "plt.plot(s_data.index[split_index+seq_leng:], s_data['Close'][split_index+seq_leng:], label='Actual Stock Prices', color='b')\n",
    "plt.plot(s_data.index[split_index+seq_leng:], predicted_stock_prices, label='Predicted Stock Prices', color='r')\n",
    "plt.legend()\n",
    "plt.title('Stock Price Prediction for AAPL')\n",
    "plt.xlabel('Date')\n",
    "plt.ylabel('Stock Price')\n",
    "plt.show()"
   ]
  }
 ],
 "metadata": {
  "kernelspec": {
   "display_name": "Python 3 (ipykernel)",
   "language": "python",
   "name": "python3"
  },
  "language_info": {
   "codemirror_mode": {
    "name": "ipython",
    "version": 3
   },
   "file_extension": ".py",
   "mimetype": "text/x-python",
   "name": "python",
   "nbconvert_exporter": "python",
   "pygments_lexer": "ipython3",
   "version": "3.12.0"
  }
 },
 "nbformat": 4,
 "nbformat_minor": 5
}
